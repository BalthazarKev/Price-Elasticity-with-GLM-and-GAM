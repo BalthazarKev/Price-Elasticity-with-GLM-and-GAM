{
 "cells": [
  {
   "cell_type": "markdown",
   "metadata": {},
   "source": [
    "<center>\n",
    "    <h3>University of Toronto</h3>\n",
    "    <h3>Department of Mechanical and Industrial Engineering</h3>\n",
    "    <h3>MIE465 Analytics in Action </h3>\n",
    "    <h3>(Winter 2019)</h3>\n",
    "    <hr>\n",
    "    <h1>Lab 6: Model Engineering</h1>\n",
    "    <h3>February 27, 2019</h3>\n",
    "</center>\n",
    "\n"
   ]
  },
  {
   "cell_type": "markdown",
   "metadata": {},
   "source": [
    "# Introduction\n",
    "\n",
    "So far, we have implemented several different models and conceptually discussed when one is more appropriate than the other. Sometimes in practice however, there are no clear guidelines on how to develop the best model for an application. Suppose we want to predict a binary classifier with high accuracy or some other metric. We are given a base dataset that when plugging into an off-the-shelf classifier, does not perform very well on the given metric. How do we proceed? \n",
    "\n",
    "- If we believe the features are not useful, we can use feature engineering methods to construct better, more relevant features.\n",
    "- If we believe the model parameters are not appropriate, we can use cross-validation and search to tune the parameters.\n",
    "- If we believe the model itself is not appropriate, we can search for better models.\n",
    "- If we find a set of models that perform differently, we can combine them using ensembles, boosting, and stacking.\n",
    "\n",
    "These are just a set of possible ways to improve our models. There are many ways to engineer better models, and often the practice of model engineering comes down to the application and our prior experience. In this lab, we will cover a few tricks that we can use: feature engineering, grid search, and stacking.\n",
    "\n",
    "\n",
    "## Feature Engineering\n",
    "\n",
    "Suppose we have a dataset where the features do not correlate well with the target. The first thing to always ask is whether we can collect more or better data. Sometimes this is not available and we must do the best with what we have. One option is then to create new, strong features that do correlate with the target by transforming and combining weak features. This practice is known as feature engineering.\n",
    "\n",
    "Generally, good features have several desirable characteristics: (a) they are spread out evenly (e.g., Gaussian or uniform distributions), (b) they behave differently (e.g., they may have different means) when the target is different, (c) they are normalized to similar scales.\n",
    "\n",
    "For example, you may have seen in the past that we take the logarithm or square root of a feature such as population or income. Usually these features encompass very large values and take on a Poisson-type distribution with a long tail. The problem with large values and long tails is that the absolute change in the value of a feature gives less information than the relative change. That is, a 100 dollar difference in income means very different things if you are comparing two low income data points versus two high income data points.\n",
    "\n",
    "Another aspect of feature engineering is that different features alone provide some value, but they can often combine to form even more useful features. In statistics, this is known as an interaction effect, where the interaction is greater than the sum of the parts. For example, if two features correlate strongly with a target, it is likely that the product of the two features will also correlate. \n",
    "\n",
    "Constructing good features requires experience, domain expertise, and some luck. In your application, you should always think about whether a transformation or a new feature makes sense for the problem, and you should always check the correlation of a transformed or new feature with the target to validate your hypothesis. You can generally do anything to create new features. The common tricks include multiplying and dividing several existing features or applying monotonic transforms. However, there are two major rules with regards to feature engineering:\n",
    "\n",
    "1. You should not create too many features, especially in order to chase marginal increases in correlation. If the correlation is small and your dataset is small, you might be creating fake (dataset-dependent) correlations that wont generalize outside of your data.\n",
    "2. You **cannot** use the target variable to create a feature.\n",
    "\n",
    "\n",
    "## Grid search\n",
    "\n",
    "Many of the machine learning models that we use have a wide variety of parameters. For example, logistic regression on scikit-learn allows 'l1' or 'l2' regularization, a regularization weight 'C', and additional modifications to the loss function. Decision trees have parameters for depth, loss function, and splitting rules that [you can read about in the documentation](https://scikit-learn.org/stable/modules/generated/sklearn.tree.DecisionTreeClassifier.html). \n",
    "\n",
    "When we are tuning a single parameter, the common method is to use k-fold cross-validation and evaluate for which setting does the model perform the best. However, how do we tune 5 or 6 different parameters all at once? The standard method is known as grid-searching, where we simply do k-fold cross-validation on all possible combinations of the different parameter values. In grid searching, the practice is to define a specific loss function, perform a search, and identify an appropriate model. Of course, this approach is computationally expensive, especially when there are a large number of parameters or values to consider. Interestingly, researchers have found that randomly searching the parameter space is often just as effective as grid searaching. What this suggests is that there is often no good intuitive way to construct features.\n",
    "\n",
    "Grid searching is not limited to model parameters but also to models themselves! For example, if you do not know whether a logistic regression or a decision tree is a better model, your best bet is to just try both and see what works.\n",
    "\n",
    "\n",
    "## Ensembles and stacking\n",
    "\n",
    "The principle of random forests is that rather than constructing one very optimized decision tree, we can construct a family of simple decision trees. Random forests and other ensemble methods work on the assumption that on average, most of the trees will predict well, and so it is sufficient to just vote on predictions.\n",
    "\n",
    "Stacking models operate on a similar basis, but rather than simply using a voting rule to obtain a prediction, we use another prediction model. In a stacking model, we train a series of *different* prediction models on the dataset. The predicted targets that each of these simple models provide are used as additional engineered features for another machine learning model. The principle is that the initial models will be able to do most of the work learning from the data. However, the final model will be able to use those results, categorize, and learn when one predictive model is appropriate over another.\n",
    "\n",
    "\n",
    "# Application\n",
    "In the lending industry, investors provide loans to borrowers in exchange for the promise of repayment with interest. If the borrower repays the loan, then the lender profits from the interest. However, sometimes the borrower is unable to repay the loan, meaning the lender loses money. The lender in this problem wants to be able to predict when a borrower is unlikely to be able to repay a loan and has asked us to build the best possible predictor.\n",
    "\n",
    "First, let us import the essential tools."
   ]
  },
  {
   "cell_type": "code",
   "execution_count": 1,
   "metadata": {},
   "outputs": [],
   "source": [
    "import matplotlib\n",
    "import matplotlib.pyplot as plt\n",
    "import numpy as np\n",
    "import pandas as pd\n",
    "\n",
    "from sklearn.linear_model import LogisticRegression\n",
    "from sklearn.tree import DecisionTreeClassifier"
   ]
  },
  {
   "cell_type": "markdown",
   "metadata": {},
   "source": [
    "## Loading and exploring the data\n",
    "Load the dataset and store it in a variable ```df_raw```."
   ]
  },
  {
   "cell_type": "code",
   "execution_count": 2,
   "metadata": {},
   "outputs": [
    {
     "data": {
      "text/html": [
       "<div>\n",
       "<style scoped>\n",
       "    .dataframe tbody tr th:only-of-type {\n",
       "        vertical-align: middle;\n",
       "    }\n",
       "\n",
       "    .dataframe tbody tr th {\n",
       "        vertical-align: top;\n",
       "    }\n",
       "\n",
       "    .dataframe thead th {\n",
       "        text-align: right;\n",
       "    }\n",
       "</style>\n",
       "<table border=\"1\" class=\"dataframe\">\n",
       "  <thead>\n",
       "    <tr style=\"text-align: right;\">\n",
       "      <th></th>\n",
       "      <th>CreditPolicy</th>\n",
       "      <th>Purpose</th>\n",
       "      <th>IntRate</th>\n",
       "      <th>Installment</th>\n",
       "      <th>Dti</th>\n",
       "      <th>Fico</th>\n",
       "      <th>DaysWithCrLine</th>\n",
       "      <th>RevolBal</th>\n",
       "      <th>RevolUtil</th>\n",
       "      <th>InqLast6mths</th>\n",
       "      <th>Delinq2yrs</th>\n",
       "      <th>PubRec</th>\n",
       "      <th>NotFullyPaid</th>\n",
       "      <th>AnnualInc</th>\n",
       "    </tr>\n",
       "  </thead>\n",
       "  <tbody>\n",
       "    <tr>\n",
       "      <th>0</th>\n",
       "      <td>1</td>\n",
       "      <td>debt_consolidation</td>\n",
       "      <td>0.1189</td>\n",
       "      <td>829.10</td>\n",
       "      <td>19.48</td>\n",
       "      <td>737</td>\n",
       "      <td>5639.958333</td>\n",
       "      <td>28854</td>\n",
       "      <td>52.1</td>\n",
       "      <td>0</td>\n",
       "      <td>0</td>\n",
       "      <td>0</td>\n",
       "      <td>0</td>\n",
       "      <td>85000.000385</td>\n",
       "    </tr>\n",
       "    <tr>\n",
       "      <th>1</th>\n",
       "      <td>1</td>\n",
       "      <td>credit_card</td>\n",
       "      <td>0.1071</td>\n",
       "      <td>228.22</td>\n",
       "      <td>14.29</td>\n",
       "      <td>707</td>\n",
       "      <td>2760.000000</td>\n",
       "      <td>33623</td>\n",
       "      <td>76.7</td>\n",
       "      <td>0</td>\n",
       "      <td>0</td>\n",
       "      <td>0</td>\n",
       "      <td>0</td>\n",
       "      <td>65000.000073</td>\n",
       "    </tr>\n",
       "    <tr>\n",
       "      <th>2</th>\n",
       "      <td>1</td>\n",
       "      <td>debt_consolidation</td>\n",
       "      <td>0.1357</td>\n",
       "      <td>366.86</td>\n",
       "      <td>11.63</td>\n",
       "      <td>682</td>\n",
       "      <td>4710.000000</td>\n",
       "      <td>3511</td>\n",
       "      <td>25.6</td>\n",
       "      <td>1</td>\n",
       "      <td>0</td>\n",
       "      <td>0</td>\n",
       "      <td>0</td>\n",
       "      <td>31999.999943</td>\n",
       "    </tr>\n",
       "    <tr>\n",
       "      <th>3</th>\n",
       "      <td>1</td>\n",
       "      <td>debt_consolidation</td>\n",
       "      <td>0.1008</td>\n",
       "      <td>162.34</td>\n",
       "      <td>8.10</td>\n",
       "      <td>712</td>\n",
       "      <td>2699.958333</td>\n",
       "      <td>33667</td>\n",
       "      <td>73.2</td>\n",
       "      <td>1</td>\n",
       "      <td>0</td>\n",
       "      <td>0</td>\n",
       "      <td>0</td>\n",
       "      <td>85000.000385</td>\n",
       "    </tr>\n",
       "    <tr>\n",
       "      <th>4</th>\n",
       "      <td>1</td>\n",
       "      <td>credit_card</td>\n",
       "      <td>0.1426</td>\n",
       "      <td>102.92</td>\n",
       "      <td>14.97</td>\n",
       "      <td>667</td>\n",
       "      <td>4066.000000</td>\n",
       "      <td>4740</td>\n",
       "      <td>39.5</td>\n",
       "      <td>0</td>\n",
       "      <td>1</td>\n",
       "      <td>0</td>\n",
       "      <td>0</td>\n",
       "      <td>80799.999636</td>\n",
       "    </tr>\n",
       "  </tbody>\n",
       "</table>\n",
       "</div>"
      ],
      "text/plain": [
       "   CreditPolicy             Purpose  IntRate  Installment    Dti  Fico  \\\n",
       "0             1  debt_consolidation   0.1189       829.10  19.48   737   \n",
       "1             1         credit_card   0.1071       228.22  14.29   707   \n",
       "2             1  debt_consolidation   0.1357       366.86  11.63   682   \n",
       "3             1  debt_consolidation   0.1008       162.34   8.10   712   \n",
       "4             1         credit_card   0.1426       102.92  14.97   667   \n",
       "\n",
       "   DaysWithCrLine  RevolBal  RevolUtil  InqLast6mths  Delinq2yrs  PubRec  \\\n",
       "0     5639.958333     28854       52.1             0           0       0   \n",
       "1     2760.000000     33623       76.7             0           0       0   \n",
       "2     4710.000000      3511       25.6             1           0       0   \n",
       "3     2699.958333     33667       73.2             1           0       0   \n",
       "4     4066.000000      4740       39.5             0           1       0   \n",
       "\n",
       "   NotFullyPaid     AnnualInc  \n",
       "0             0  85000.000385  \n",
       "1             0  65000.000073  \n",
       "2             0  31999.999943  \n",
       "3             0  85000.000385  \n",
       "4             0  80799.999636  "
      ]
     },
     "execution_count": 2,
     "metadata": {},
     "output_type": "execute_result"
    }
   ],
   "source": [
    "df_raw = pd.read_csv('LoansRevised.csv')\n",
    "df_raw.head()"
   ]
  },
  {
   "cell_type": "markdown",
   "metadata": {},
   "source": [
    "The dataset should not contain any missing data, but you can double-check if you want. The table below contains the data dictionary. The target is ```NotFullyPaid```.\n",
    "\n",
    "|Feature         |Definition                               |\n",
    "|:--------------:|:----------------------------------------|\n",
    "|CreditPolicy    |1 if the borrower meets the underwriting criteria                       |\n",
    "|Purpose         |Written purpose of the loan                           |    \n",
    "|IntRate         |Assigned interest rate                           |\n",
    "|Installment     |Monthly installments                      |  \n",
    "|Dti             |Borrower's debt to income ratio               |\n",
    "|Fico            |Borrower's FICO (credit) score                    |\n",
    "|DaysWithCrLine  |Number of days the borrower has had an existing line of credit                 |\n",
    "|RevolBal        |Revolving balance (current unpaid credit-card debt)            |\n",
    "|RevolUtil       |Revolving line utilization (fraction of line of credit used)                 |\n",
    "|InqLast5mths    |Number of inquiries by creditors in last 5 months            |\n",
    "|Delinq2yrs      |Number of times the borrower has been 30+days past due in last 2 years                         |\n",
    "|PubReq          |Number of derogatory public records                    |\n",
    "|NotFullyPaid    |1 if the loan was not fully paid back                       |\n",
    "|AnnualInc       |Self-reported annual income of borrower         |\n",
    "\n",
    "\n",
    "The Purpose column is categorical, so let's encode the information into a series of binary variables."
   ]
  },
  {
   "cell_type": "code",
   "execution_count": 3,
   "metadata": {},
   "outputs": [
    {
     "data": {
      "text/html": [
       "<div>\n",
       "<style scoped>\n",
       "    .dataframe tbody tr th:only-of-type {\n",
       "        vertical-align: middle;\n",
       "    }\n",
       "\n",
       "    .dataframe tbody tr th {\n",
       "        vertical-align: top;\n",
       "    }\n",
       "\n",
       "    .dataframe thead th {\n",
       "        text-align: right;\n",
       "    }\n",
       "</style>\n",
       "<table border=\"1\" class=\"dataframe\">\n",
       "  <thead>\n",
       "    <tr style=\"text-align: right;\">\n",
       "      <th></th>\n",
       "      <th>CreditPolicy</th>\n",
       "      <th>IntRate</th>\n",
       "      <th>Installment</th>\n",
       "      <th>Dti</th>\n",
       "      <th>Fico</th>\n",
       "      <th>DaysWithCrLine</th>\n",
       "      <th>RevolBal</th>\n",
       "      <th>RevolUtil</th>\n",
       "      <th>InqLast6mths</th>\n",
       "      <th>Delinq2yrs</th>\n",
       "      <th>PubRec</th>\n",
       "      <th>NotFullyPaid</th>\n",
       "      <th>AnnualInc</th>\n",
       "      <th>debt_consolidation</th>\n",
       "      <th>credit_card</th>\n",
       "      <th>all_other</th>\n",
       "      <th>home_improvement</th>\n",
       "      <th>small_business</th>\n",
       "      <th>major_purchase</th>\n",
       "      <th>educational</th>\n",
       "    </tr>\n",
       "  </thead>\n",
       "  <tbody>\n",
       "    <tr>\n",
       "      <th>0</th>\n",
       "      <td>1</td>\n",
       "      <td>0.1189</td>\n",
       "      <td>829.10</td>\n",
       "      <td>19.48</td>\n",
       "      <td>737</td>\n",
       "      <td>5639.958333</td>\n",
       "      <td>28854</td>\n",
       "      <td>52.1</td>\n",
       "      <td>0</td>\n",
       "      <td>0</td>\n",
       "      <td>0</td>\n",
       "      <td>0</td>\n",
       "      <td>85000.000385</td>\n",
       "      <td>1</td>\n",
       "      <td>0</td>\n",
       "      <td>0</td>\n",
       "      <td>0</td>\n",
       "      <td>0</td>\n",
       "      <td>0</td>\n",
       "      <td>0</td>\n",
       "    </tr>\n",
       "    <tr>\n",
       "      <th>1</th>\n",
       "      <td>1</td>\n",
       "      <td>0.1071</td>\n",
       "      <td>228.22</td>\n",
       "      <td>14.29</td>\n",
       "      <td>707</td>\n",
       "      <td>2760.000000</td>\n",
       "      <td>33623</td>\n",
       "      <td>76.7</td>\n",
       "      <td>0</td>\n",
       "      <td>0</td>\n",
       "      <td>0</td>\n",
       "      <td>0</td>\n",
       "      <td>65000.000073</td>\n",
       "      <td>0</td>\n",
       "      <td>1</td>\n",
       "      <td>0</td>\n",
       "      <td>0</td>\n",
       "      <td>0</td>\n",
       "      <td>0</td>\n",
       "      <td>0</td>\n",
       "    </tr>\n",
       "    <tr>\n",
       "      <th>2</th>\n",
       "      <td>1</td>\n",
       "      <td>0.1357</td>\n",
       "      <td>366.86</td>\n",
       "      <td>11.63</td>\n",
       "      <td>682</td>\n",
       "      <td>4710.000000</td>\n",
       "      <td>3511</td>\n",
       "      <td>25.6</td>\n",
       "      <td>1</td>\n",
       "      <td>0</td>\n",
       "      <td>0</td>\n",
       "      <td>0</td>\n",
       "      <td>31999.999943</td>\n",
       "      <td>1</td>\n",
       "      <td>0</td>\n",
       "      <td>0</td>\n",
       "      <td>0</td>\n",
       "      <td>0</td>\n",
       "      <td>0</td>\n",
       "      <td>0</td>\n",
       "    </tr>\n",
       "    <tr>\n",
       "      <th>3</th>\n",
       "      <td>1</td>\n",
       "      <td>0.1008</td>\n",
       "      <td>162.34</td>\n",
       "      <td>8.10</td>\n",
       "      <td>712</td>\n",
       "      <td>2699.958333</td>\n",
       "      <td>33667</td>\n",
       "      <td>73.2</td>\n",
       "      <td>1</td>\n",
       "      <td>0</td>\n",
       "      <td>0</td>\n",
       "      <td>0</td>\n",
       "      <td>85000.000385</td>\n",
       "      <td>1</td>\n",
       "      <td>0</td>\n",
       "      <td>0</td>\n",
       "      <td>0</td>\n",
       "      <td>0</td>\n",
       "      <td>0</td>\n",
       "      <td>0</td>\n",
       "    </tr>\n",
       "    <tr>\n",
       "      <th>4</th>\n",
       "      <td>1</td>\n",
       "      <td>0.1426</td>\n",
       "      <td>102.92</td>\n",
       "      <td>14.97</td>\n",
       "      <td>667</td>\n",
       "      <td>4066.000000</td>\n",
       "      <td>4740</td>\n",
       "      <td>39.5</td>\n",
       "      <td>0</td>\n",
       "      <td>1</td>\n",
       "      <td>0</td>\n",
       "      <td>0</td>\n",
       "      <td>80799.999636</td>\n",
       "      <td>0</td>\n",
       "      <td>1</td>\n",
       "      <td>0</td>\n",
       "      <td>0</td>\n",
       "      <td>0</td>\n",
       "      <td>0</td>\n",
       "      <td>0</td>\n",
       "    </tr>\n",
       "  </tbody>\n",
       "</table>\n",
       "</div>"
      ],
      "text/plain": [
       "   CreditPolicy  IntRate  Installment    Dti  Fico  DaysWithCrLine  RevolBal  \\\n",
       "0             1   0.1189       829.10  19.48   737     5639.958333     28854   \n",
       "1             1   0.1071       228.22  14.29   707     2760.000000     33623   \n",
       "2             1   0.1357       366.86  11.63   682     4710.000000      3511   \n",
       "3             1   0.1008       162.34   8.10   712     2699.958333     33667   \n",
       "4             1   0.1426       102.92  14.97   667     4066.000000      4740   \n",
       "\n",
       "   RevolUtil  InqLast6mths  Delinq2yrs  PubRec  NotFullyPaid     AnnualInc  \\\n",
       "0       52.1             0           0       0             0  85000.000385   \n",
       "1       76.7             0           0       0             0  65000.000073   \n",
       "2       25.6             1           0       0             0  31999.999943   \n",
       "3       73.2             1           0       0             0  85000.000385   \n",
       "4       39.5             0           1       0             0  80799.999636   \n",
       "\n",
       "   debt_consolidation  credit_card  all_other  home_improvement  \\\n",
       "0                   1            0          0                 0   \n",
       "1                   0            1          0                 0   \n",
       "2                   1            0          0                 0   \n",
       "3                   1            0          0                 0   \n",
       "4                   0            1          0                 0   \n",
       "\n",
       "   small_business  major_purchase  educational  \n",
       "0               0               0            0  \n",
       "1               0               0            0  \n",
       "2               0               0            0  \n",
       "3               0               0            0  \n",
       "4               0               0            0  "
      ]
     },
     "execution_count": 3,
     "metadata": {},
     "output_type": "execute_result"
    }
   ],
   "source": [
    "unique_types = df_raw.Purpose.unique()\n",
    "for unique in unique_types:\n",
    "    df_raw[unique] = df_raw.Purpose.apply(lambda x: 1 if x == unique else 0)\n",
    "df = df_raw.drop(columns=['Purpose'])\n",
    "df.head()"
   ]
  },
  {
   "cell_type": "markdown",
   "metadata": {},
   "source": [
    "We will play around with a lot of different models in this lab. In order to experiment fairly, it is imperative that we split the data into a training and validation set."
   ]
  },
  {
   "cell_type": "code",
   "execution_count": 4,
   "metadata": {},
   "outputs": [],
   "source": [
    "from sklearn.model_selection import train_test_split\n",
    "\n",
    "X_train, X_val, y_train, y_val = train_test_split(df.drop(columns=['NotFullyPaid']),\n",
    "                                                    df.NotFullyPaid,\n",
    "                                                    test_size = 0.2,\n",
    "                                                    random_state = 1)"
   ]
  },
  {
   "cell_type": "markdown",
   "metadata": {},
   "source": [
    "We can analyze ```X_train, X_val, y_train, y_val``` as much as we want when designing or optimizing a model. However, let's save the test set for the end.\n",
    "\n",
    "Let's start with some exploratory analysis. We can use the ```describe()``` method on a dataframe to quickly print out a summary of the columns. Take a quick scan through the data. Use the ```corr()``` method and anything else you want to explore as well. Try to answer the following questions.\n",
    "\n",
    "1. How often do borrowers default on their loans?\n",
    "2. Which of the purposes for borrowing is most likely to lead to a default?\n",
    "3. Which of the purposes has the highest correlation with the ```NotFullyPaid``` variable?\n",
    "4. Are there any imbalanced features?\n"
   ]
  },
  {
   "cell_type": "code",
   "execution_count": 38,
   "metadata": {},
   "outputs": [
    {
     "name": "stdout",
     "output_type": "stream",
     "text": [
      "1. There are 1210 defaults over 7662 loans\n",
      "2. debt_consolidation is most likely to lead to a default\n",
      "3. IntRate has the highest correlation with the NotFullyPaid variable\n"
     ]
    },
    {
     "data": {
      "text/plain": [
       "<Figure size 432x288 with 0 Axes>"
      ]
     },
     "metadata": {},
     "output_type": "display_data"
    },
    {
     "data": {
      "image/png": "[encoded data removed]",
      "text/plain": [
       "<Figure size 1080x1080 with 20 Axes>"
      ]
     },
     "metadata": {
      "needs_background": "light"
     },
     "output_type": "display_data"
    }
   ],
   "source": [
    "# Answer the questions here\n",
    "# 1\n",
    "print('1. There are {} defaults over {} loans'.format(y_train.sum(), y_train.shape[0]))\n",
    "\n",
    "# 2\n",
    "print('2. {} is most likely to lead to a default'.format(df_raw[df_raw['NotFullyPaid'] == 1]['Purpose'].value_counts().index[0]))\n",
    "\n",
    "# 3\n",
    "print('3. {} has the highest correlation with the NotFullyPaid variable'.format(df.corr().loc['NotFullyPaid'].abs().sort_values(ascending = False).index[1]))\n",
    "\n",
    "# 4 \n",
    "plt.figure()\n",
    "df.hist(figsize = (15,15))\n",
    "plt.show()"
   ]
  },
  {
   "cell_type": "markdown",
   "metadata": {},
   "source": [
    "For starters, we can fit a simple logistic regression model and call it ```baseline```. We will evaluate all models on the precision and the recall (i.e., TPR). Write a function that takes a model, fits it on a training dataset,  evaluates precision and recall on the validation set, and outputs these two evaluation metrics. You can use the ```precision_score()``` and ```recall_score()``` functions below to calculate those metrics."
   ]
  },
  {
   "cell_type": "code",
   "execution_count": 44,
   "metadata": {},
   "outputs": [
    {
     "name": "stdout",
     "output_type": "stream",
     "text": [
      "On the validation set, the precision is 0.0 and recall is 0.0\n"
     ]
    },
    {
     "name": "stderr",
     "output_type": "stream",
     "text": [
      "C:\\Users\\Kevin Zhang\\AppData\\Local\\conda\\conda\\envs\\Keras\\lib\\site-packages\\sklearn\\linear_model\\logistic.py:433: FutureWarning: Default solver will be changed to 'lbfgs' in 0.22. Specify a solver to silence this warning.\n",
      "  FutureWarning)\n",
      "C:\\Users\\Kevin Zhang\\AppData\\Local\\conda\\conda\\envs\\Keras\\lib\\site-packages\\sklearn\\metrics\\classification.py:1143: UndefinedMetricWarning: Precision is ill-defined and being set to 0.0 due to no predicted samples.\n",
      "  'precision', 'predicted', average, warn_for)\n"
     ]
    }
   ],
   "source": [
    "from sklearn.metrics import precision_score, recall_score\n",
    "\n",
    "baseline = LogisticRegression(random_state=1)\n",
    "\n",
    "def fit_and_score_model(mdl, X_train, X_val, y_train, y_val):\n",
    "    # Write some code to fit the model, and calculate precision and recall on\n",
    "    # the validation set.\n",
    "    baseline.fit(X_train, y_train)\n",
    "    y_pre = baseline.predict(X_val)\n",
    "    pre = precision_score(y_val, y_pre)\n",
    "    rec = recall_score(y_val, y_pre)\n",
    "    \n",
    "    # -------------------------------------------------------------------------\n",
    "    print('On the validation set, the precision is {} and recall is {}'.format(pre, rec))\n",
    "    return pre, rec\n",
    "    \n",
    "precision, recall = fit_and_score_model(baseline, X_train, X_val, y_train, y_val)\n"
   ]
  },
  {
   "cell_type": "markdown",
   "metadata": {},
   "source": [
    "1. What is the logistic regression model doing?\n",
    "2. Why should we use precision and recall as our metrics for this problem rather than the usual ROC metrics?"
   ]
  },
  {
   "cell_type": "markdown",
   "metadata": {},
   "source": [
    "1. it's predicting everything as 0\n"
   ]
  },
  {
   "cell_type": "markdown",
   "metadata": {},
   "source": [
    "Clearly, a baseline logistic regression model is not a good idea. Let's use a decision tree instead as our baseline.\n"
   ]
  },
  {
   "cell_type": "code",
   "execution_count": 45,
   "metadata": {},
   "outputs": [
    {
     "name": "stdout",
     "output_type": "stream",
     "text": [
      "On the validation set, the precision is 0.24624624624624625 and recall is 0.25386996904024767\n"
     ]
    }
   ],
   "source": [
    "baseline = DecisionTreeClassifier(random_state=1)\n",
    "\n",
    "precision, recall = fit_and_score_model(baseline, X_train, X_val, y_train, y_val)\n",
    "\n",
    "# We should also save the model.\n",
    "all_models = {}\n",
    "all_models['baseline'] = (precision, recall, baseline, 'runs on X_train')"
   ]
  },
  {
   "cell_type": "markdown",
   "metadata": {},
   "source": [
    "Notice that in the above code, we have created a dictionary ```all_models```, where we saved the precision, recall, and the model itself as a tuple. As we go along, we will update this dictionary. At the end of this lab, we will run all of the models in this dictionary on the testing set to see how they differ.\n",
    "\n",
    "The precision and recall on the validation set is the baseline score. Our job from here on is to develop the best possible classifier to improve both metrics. We will build and train our models on the training set and evaluate on the validation set.\n",
    "\n",
    "## Transforming your data to get better predictors\n",
    "\n",
    "Let's start by applying some simple transforms on the variables. First we should identify which variables to work with. Go through ```X_train``` and for each of the features that are continuous variables, plot a histogram of that variable for all ```y_train == 1``` and for all ```y_train == 0```. Remember that you can use ```.hist(<column name>)``` to quickly plot histograms."
   ]
  },
  {
   "cell_type": "code",
   "execution_count": 46,
   "metadata": {
    "scrolled": false
   },
   "outputs": [
    {
     "data": {
      "image/png": "[encoded data removed]",
      "text/plain": [
       "<Figure size 1152x864 with 24 Axes>"
      ]
     },
     "metadata": {
      "needs_background": "light"
     },
     "output_type": "display_data"
    }
   ],
   "source": [
    "continuous_variables = ['IntRate', 'Installment', 'Dti', 'Fico', 'DaysWithCrLine', \n",
    "                        'RevolBal', 'RevolUtil', 'InqLast6mths', 'Delinq2yrs', \n",
    "                        'PubRec', 'AnnualInc']\n",
    "\n",
    "fig, ax = plt.subplots(6,4, figsize=(16, 12))\n",
    "fig.subplots_adjust(bottom=0.4, top=1.5)\n",
    "ax = ax.ravel()\n",
    "\n",
    "for i, col in enumerate(continuous_variables):\n",
    "    # Plot the feature when y is 1\n",
    "    X_train[y_train == 1].hist(col, ax=ax[2*i])\n",
    "    ax[2*i].set_title('{} [y==1]'.format(col))\n",
    "    \n",
    "    # Plot the feature when y is 0\n",
    "    X_train[y_train == 0].hist(col, ax=ax[2*i+1])\n",
    "    ax[2*i+1].set_title('{} [y==0]'.format(col))\n"
   ]
  },
  {
   "cell_type": "markdown",
   "metadata": {},
   "source": [
    "Going through your data, you should notice that several of the variables behave in a Poisson distribution with a very long tail. The problem with these distributions is that the relative change in the feature variable is a bigger indicator of the effect on the target rather than the absolute change. You commonly see this behaviour with money or population features. For example, a 100 dollar difference in annual income means very different things if you are comparing two low income data points versus two high income data points.\n",
    "\n",
    "In such cases, its useful to apply a log or a square-root transform on the feature. What these transforms do is try to spread the low-value data over a larger range. A common rule of thumb is that when your variables have low-values that are greater than 10000, to use a log transform, and if less, then to use a square-root transform.\n",
    "\n",
    "Below, we've provided some code to make a copy of ```X_train``` and apply a log transform to the AnnualInc and RevolBal variables and a square root transform to Installment and Fico. Plot histograms of the new features like you did before with ```y_train == 1``` and ```y_train == 0```. What do you observe about the new features?\n"
   ]
  },
  {
   "cell_type": "code",
   "execution_count": 47,
   "metadata": {
    "scrolled": true
   },
   "outputs": [],
   "source": [
    "# First we copy the data and then apply some transforms.\n",
    "X_new = X_train.copy()\n",
    "\n",
    "X_new['LogAnnualInc'] = np.log(X_new['AnnualInc'])\n",
    "X_new['LogRevolBal'] = np.log(X_new['RevolBal']+1)\n",
    "X_new['SqrtInstallment'] = np.sqrt(X_new['Installment'])\n",
    "X_new['SqrtFico'] = np.sqrt(X_new['Fico'])\n",
    "    \n",
    "\n",
    "    \n",
    "# Write some code to plot the new features and compare with the old ones.\n",
    "\n",
    "    \n",
    "# -------------------------------------------------------------------------"
   ]
  },
  {
   "cell_type": "markdown",
   "metadata": {},
   "source": [
    "Your new features should look like this:\n",
    "![new_features](img/new_features.png)\n",
    "\n",
    "Let's try and develop a new logistic regression model with these transformed features. We want to make sure that this is done in a repeatable way. We can write a function that makes a copy of a dataframe and applies the transforms. Then, we use the function on ```X_train``` and ```X_val``` to generate a new dataset that includes the transformed features, which we then use to train a decision tree.\n",
    "\n",
    "**Note that we will always copy the dataframe to a new variable rather than directly editing ```X_train```. This is slightly inefficient, but will ensure that we don't have to re-load the dataset whenever we are exploring.**"
   ]
  },
  {
   "cell_type": "code",
   "execution_count": 48,
   "metadata": {
    "scrolled": true
   },
   "outputs": [
    {
     "name": "stdout",
     "output_type": "stream",
     "text": [
      "On the validation set, the precision is 0.27388535031847133 and recall is 0.26625386996904027\n"
     ]
    }
   ],
   "source": [
    "def monotone_transform(X):\n",
    "    X_new = X.copy()\n",
    "    X_new['LogAnnualInc'] = np.log(X_new['AnnualInc'])\n",
    "    X_new['LogRevolBal'] = np.log(X_new['RevolBal']+1)\n",
    "    X_new['SqrtInstallment'] = np.sqrt(X_new['Installment'])\n",
    "    X_new['SqrtFico'] = np.sqrt(X_new['Fico'])\n",
    "    \n",
    "    return X_new\n",
    "\n",
    "X_train_monotone = monotone_transform(X_train)\n",
    "X_val_monotone = monotone_transform(X_val)\n",
    "mdl_monotone = DecisionTreeClassifier(random_state=1)\n",
    "\n",
    "precision, recall = fit_and_score_model(mdl_monotone, \n",
    "                                        X_train_monotone, \n",
    "                                        X_val_monotone, \n",
    "                                        y_train, \n",
    "                                        y_val)\n",
    "\n",
    "# We should also save the model.\n",
    "all_models['monotone'] = (precision, recall, mdl_monotone, 'run monotone_transform()')"
   ]
  },
  {
   "cell_type": "markdown",
   "metadata": {},
   "source": [
    "Note that once again, we save the model inside ```all_models```.\n",
    "\n",
    "You should see a slight improvement in the model precision, but unfortunately, it didn't seem to do much for this case. \n",
    "\n",
    "Another method of constructing new features is to find interaction effects from combining two or more features. The best way to go about this is by domain knowledge and developed intuition. One trick is to look at features that are already good predictors and see if they can combine to become even better. For example, you may have noticed earlier that credit policy and FICO score both strongly negatively correlate with the target. The simplest thing to try is to just multiply or divide the two features and construct a new feature ```credit_policy * fico```.\n",
    "\n",
    "Of course, if you don't have the domain knowledge, another way to go about it is just try combinations of multiple features to see if you can combine them to construct a new feature with higher correlation to the target than the originals. We've provided some code below that loops through every pair of features, and applies a transformation (e.g., multiplication, division). If the new feature has a correlation higher than the correlations of the original features, the code will print it out for us to inspect. Note that we add a ```+0.02``` to the requirement to make sure that the improvement is actually significant. If we didn't have that, then it would print out a lot of features that are likely to be useless! "
   ]
  },
  {
   "cell_type": "code",
   "execution_count": 50,
   "metadata": {},
   "outputs": [
    {
     "name": "stdout",
     "output_type": "stream",
     "text": [
      "CreditPolicy IntRate combine to get correlation 0.194 compared to 0.158 0.16\n",
      "Installment AnnualInc combine to get correlation 0.071 compared to 0.05 0.007\n",
      "all_other AnnualInc combine to get correlation 0.04 compared to 0.009 0.007\n"
     ]
    },
    {
     "name": "stderr",
     "output_type": "stream",
     "text": [
      "C:\\Users\\Kevin Zhang\\AppData\\Local\\conda\\conda\\envs\\Keras\\lib\\site-packages\\numpy\\lib\\function_base.py:2320: RuntimeWarning: invalid value encountered in subtract\n",
      "  X -= avg[:, None]\n"
     ]
    }
   ],
   "source": [
    "base_corrs = df.corr().NotFullyPaid.drop(index='NotFullyPaid')\n",
    "\n",
    "for feature1 in base_corrs.index:\n",
    "    for feature2 in base_corrs.index:\n",
    "        if feature2 != feature1:\n",
    "            # multiply the two features to create a new feature\n",
    "            new_feature = X_train[feature1] / X_train[feature2]\n",
    "            new_corr = np.abs(np.round(np.corrcoef(new_feature, y_train)[0,1], 3))\n",
    "            corr1 = np.abs(np.round(base_corrs[feature1], 3))\n",
    "            corr2 = np.abs(np.round(base_corrs[feature2], 3))\n",
    "            \n",
    "            # add a threshold of 0.02 to make sure that the improvement is meaningful\n",
    "            if new_corr > max(corr1, corr2)+0.02:\n",
    "                print('{} {} combine to get correlation {} compared to {} {}'.format(\n",
    "                    feature1, feature2, new_corr, corr1, corr2))"
   ]
  },
  {
   "cell_type": "markdown",
   "metadata": {},
   "source": [
    "Play around with the above code and the space below to see if you can find any new interesting or useful features. For example, you could try different transforms of the features, or combining three features together. Oftentimes, this task of feature engineering is the most important and time consuming aspect of machine learning. Good features are hard to come by!"
   ]
  },
  {
   "cell_type": "code",
   "execution_count": 12,
   "metadata": {},
   "outputs": [],
   "source": [
    "# You can play around with trying to construct new features here.\n",
    "\n"
   ]
  },
  {
   "cell_type": "markdown",
   "metadata": {},
   "source": [
    "It is important to not get too carried away with algorithmic feature engineering. If we construct a new feature, we should think carefully about why it is relevant; for example, does the product of two features have an domain-specific meaning? Is a new feature actually correlated with the target or is it just a lucky product of your dataset. If you have a small amount of data, you don't want to create idiosyncracies in your dataset that don't reflect real life. If you have too many of these not-really-correlated features in your dataset, then your model might be chasing a pattern that doesn't really exist, i.e., overfitting.\n",
    "\n",
    "In the code below, we've proposed a few additional useful features and created a function that adds them to the dataset. Feel free to add any additional features, or change the existing ones, and try to improve the precision and recall."
   ]
  },
  {
   "cell_type": "code",
   "execution_count": 52,
   "metadata": {},
   "outputs": [
    {
     "name": "stdout",
     "output_type": "stream",
     "text": [
      "On the validation set, the precision is 0.27953890489913547 and recall is 0.30030959752321984\n"
     ]
    }
   ],
   "source": [
    "def new_feature_combos(X):\n",
    "    # First, we apply the monotone transform function\n",
    "    X_new = monotone_transform(X)\n",
    "    \n",
    "    # Then we add new features\n",
    "    X_new['CreditPolicy_*_Fico'] = X_new.CreditPolicy * X_new.Fico\n",
    "    \n",
    "    X_new['CreditPolicy_**_AnnualInc'] = X_new.CreditPolicy ** X_new.AnnualInc\n",
    "    \n",
    "    X_new['Installment_/_AnnualInc'] = X_new.Installment / X_new.AnnualInc\n",
    "\n",
    "    # Add any additional features that you might have found here\n",
    "    # ----------------------------------------------------------\n",
    "    \n",
    "    # ----------------------------------------------------------\n",
    "    return X_new\n",
    "\n",
    "\n",
    "X_train_interactions = new_feature_combos(X_train)\n",
    "X_val_interactions = new_feature_combos(X_val)\n",
    "mdl_interactions = DecisionTreeClassifier(random_state=1)\n",
    "\n",
    "precision, recall = fit_and_score_model(mdl_interactions, \n",
    "                                        X_train_interactions, \n",
    "                                        X_val_interactions, \n",
    "                                        y_train, \n",
    "                                        y_val)\n",
    "all_models['interactions'] = (precision, recall, mdl_interactions, 'run new_feature_combos()')"
   ]
  },
  {
   "cell_type": "markdown",
   "metadata": {},
   "source": [
    "Finally, let's add a bit of code to normalize and scale the features. This may not do much right now, but it is useful for later."
   ]
  },
  {
   "cell_type": "code",
   "execution_count": 53,
   "metadata": {},
   "outputs": [
    {
     "name": "stdout",
     "output_type": "stream",
     "text": [
      "On the validation set, the precision is 0.27953890489913547 and recall is 0.30030959752321984\n"
     ]
    }
   ],
   "source": [
    "from sklearn.preprocessing import StandardScaler\n",
    "\n",
    "def new_features_and_normalize(X_train, X_val):\n",
    "    X_train_interactions = new_feature_combos(X_train)\n",
    "    X_val_interactions = new_feature_combos(X_val)\n",
    "    \n",
    "    scaler = StandardScaler()\n",
    "    X_train_scaled = pd.DataFrame(scaler.fit_transform(X_train_interactions.values), \n",
    "                           columns=X_train_interactions.columns)\n",
    "    X_val_scaled = pd.DataFrame(scaler.transform(X_val_interactions.values), \n",
    "                         columns=X_val_interactions.columns)\n",
    "    return X_train_scaled, X_val_scaled\n",
    "\n",
    "X_train_scaled, X_val_scaled = new_features_and_normalize(X_train, X_val)\n",
    "\n",
    "mdl_normalized = DecisionTreeClassifier(random_state=1)\n",
    "\n",
    "precision, recall = fit_and_score_model(mdl_normalized, \n",
    "                                        X_train_interactions, \n",
    "                                        X_val_interactions, \n",
    "                                        y_train, \n",
    "                                        y_val)\n",
    "all_models['normalized'] = (precision, recall, mdl_interactions, 'run new_features_and_normalize()')\n",
    "\n",
    "    "
   ]
  },
  {
   "cell_type": "markdown",
   "metadata": {},
   "source": [
    "## Parameter tuning via grid search\n",
    "\n",
    "Another way to optimize your model is to tune the hyperparameters. ```DecisionTreeClassifier()``` has several hyperparameters that [you can read about in the documentation.](https://scikit-learn.org/stable/modules/generated/sklearn.tree.DecisionTreeClassifier.html). For example, the ```criterion``` parameter determines the loss function on which to make splits. Then, there are parameters that define the minimum number of samples for a node to be a leaf (```min_samples_leaf```), the maximum number of features to consider when searching for splits (```max_features```), and the ```class_weight``` parameter that balances the penalty for misclassifying 1's versus 0's.\n",
    "\n",
    "The simplest way to find the best hyperparameters is to just brute force search over all possible combinations. However, if there are too many combinations, it could take forever! Interestingly, researchers have found that just randomly selecting a set of hyperparameter values can often get you pretty close to optimal. Scikit-learn provides two useful functions ```GridSearchCV()``` and ```RandomSearchCV()``` to implement these two approaches towards tuning the parameters. These functions take in a baseline model, a dictionary of parameters over which to sweep, and a scoring function to evaluate all of the different models on. For each parameter combination, these functions will run 3-fold cross validation to evaluate each of the scoring functions. Scikit-learn provides a [number of predefined scoring functions](https://scikit-learn.org/stable/modules/model_evaluation.html#scoring-parameter), but you can also make your own."
   ]
  },
  {
   "cell_type": "code",
   "execution_count": 54,
   "metadata": {},
   "outputs": [
    {
     "name": "stderr",
     "output_type": "stream",
     "text": [
      "C:\\Users\\Kevin Zhang\\AppData\\Local\\conda\\conda\\envs\\Keras\\lib\\site-packages\\sklearn\\model_selection\\_split.py:2053: FutureWarning: You should specify a value for 'cv' instead of relying on the default value. The default value will change from 3 to 5 in version 0.22.\n",
      "  warnings.warn(CV_WARNING, FutureWarning)\n",
      "C:\\Users\\Kevin Zhang\\AppData\\Local\\conda\\conda\\envs\\Keras\\lib\\site-packages\\sklearn\\metrics\\classification.py:1143: UndefinedMetricWarning: Precision is ill-defined and being set to 0.0 due to no predicted samples.\n",
      "  'precision', 'predicted', average, warn_for)\n",
      "C:\\Users\\Kevin Zhang\\AppData\\Local\\conda\\conda\\envs\\Keras\\lib\\site-packages\\sklearn\\metrics\\classification.py:1143: UndefinedMetricWarning: Precision is ill-defined and being set to 0.0 due to no predicted samples.\n",
      "  'precision', 'predicted', average, warn_for)\n",
      "C:\\Users\\Kevin Zhang\\AppData\\Local\\conda\\conda\\envs\\Keras\\lib\\site-packages\\sklearn\\metrics\\classification.py:1143: UndefinedMetricWarning: Precision is ill-defined and being set to 0.0 due to no predicted samples.\n",
      "  'precision', 'predicted', average, warn_for)\n",
      "C:\\Users\\Kevin Zhang\\AppData\\Local\\conda\\conda\\envs\\Keras\\lib\\site-packages\\sklearn\\metrics\\classification.py:1143: UndefinedMetricWarning: Precision is ill-defined and being set to 0.0 due to no predicted samples.\n",
      "  'precision', 'predicted', average, warn_for)\n",
      "C:\\Users\\Kevin Zhang\\AppData\\Local\\conda\\conda\\envs\\Keras\\lib\\site-packages\\sklearn\\metrics\\classification.py:1143: UndefinedMetricWarning: Precision is ill-defined and being set to 0.0 due to no predicted samples.\n",
      "  'precision', 'predicted', average, warn_for)\n",
      "C:\\Users\\Kevin Zhang\\AppData\\Local\\conda\\conda\\envs\\Keras\\lib\\site-packages\\sklearn\\metrics\\classification.py:1143: UndefinedMetricWarning: Precision is ill-defined and being set to 0.0 due to no predicted samples.\n",
      "  'precision', 'predicted', average, warn_for)\n",
      "C:\\Users\\Kevin Zhang\\AppData\\Local\\conda\\conda\\envs\\Keras\\lib\\site-packages\\sklearn\\metrics\\classification.py:1143: UndefinedMetricWarning: Precision is ill-defined and being set to 0.0 due to no predicted samples.\n",
      "  'precision', 'predicted', average, warn_for)\n",
      "C:\\Users\\Kevin Zhang\\AppData\\Local\\conda\\conda\\envs\\Keras\\lib\\site-packages\\sklearn\\metrics\\classification.py:1143: UndefinedMetricWarning: Precision is ill-defined and being set to 0.0 due to no predicted samples.\n",
      "  'precision', 'predicted', average, warn_for)\n",
      "C:\\Users\\Kevin Zhang\\AppData\\Local\\conda\\conda\\envs\\Keras\\lib\\site-packages\\sklearn\\metrics\\classification.py:1143: UndefinedMetricWarning: Precision is ill-defined and being set to 0.0 due to no predicted samples.\n",
      "  'precision', 'predicted', average, warn_for)\n",
      "C:\\Users\\Kevin Zhang\\AppData\\Local\\conda\\conda\\envs\\Keras\\lib\\site-packages\\sklearn\\metrics\\classification.py:1143: UndefinedMetricWarning: Precision is ill-defined and being set to 0.0 due to no predicted samples.\n",
      "  'precision', 'predicted', average, warn_for)\n",
      "C:\\Users\\Kevin Zhang\\AppData\\Local\\conda\\conda\\envs\\Keras\\lib\\site-packages\\sklearn\\metrics\\classification.py:1143: UndefinedMetricWarning: Precision is ill-defined and being set to 0.0 due to no predicted samples.\n",
      "  'precision', 'predicted', average, warn_for)\n",
      "C:\\Users\\Kevin Zhang\\AppData\\Local\\conda\\conda\\envs\\Keras\\lib\\site-packages\\sklearn\\metrics\\classification.py:1143: UndefinedMetricWarning: Precision is ill-defined and being set to 0.0 due to no predicted samples.\n",
      "  'precision', 'predicted', average, warn_for)\n",
      "C:\\Users\\Kevin Zhang\\AppData\\Local\\conda\\conda\\envs\\Keras\\lib\\site-packages\\sklearn\\metrics\\classification.py:1143: UndefinedMetricWarning: Precision is ill-defined and being set to 0.0 due to no predicted samples.\n",
      "  'precision', 'predicted', average, warn_for)\n",
      "C:\\Users\\Kevin Zhang\\AppData\\Local\\conda\\conda\\envs\\Keras\\lib\\site-packages\\sklearn\\metrics\\classification.py:1143: UndefinedMetricWarning: Precision is ill-defined and being set to 0.0 due to no predicted samples.\n",
      "  'precision', 'predicted', average, warn_for)\n",
      "C:\\Users\\Kevin Zhang\\AppData\\Local\\conda\\conda\\envs\\Keras\\lib\\site-packages\\sklearn\\metrics\\classification.py:1143: UndefinedMetricWarning: Precision is ill-defined and being set to 0.0 due to no predicted samples.\n",
      "  'precision', 'predicted', average, warn_for)\n",
      "C:\\Users\\Kevin Zhang\\AppData\\Local\\conda\\conda\\envs\\Keras\\lib\\site-packages\\sklearn\\metrics\\classification.py:1143: UndefinedMetricWarning: Precision is ill-defined and being set to 0.0 due to no predicted samples.\n",
      "  'precision', 'predicted', average, warn_for)\n"
     ]
    },
    {
     "data": {
      "text/plain": [
       "GridSearchCV(cv='warn', error_score='raise-deprecating',\n",
       "       estimator=DecisionTreeClassifier(class_weight=None, criterion='gini', max_depth=None,\n",
       "            max_features=None, max_leaf_nodes=None,\n",
       "            min_impurity_decrease=0.0, min_impurity_split=None,\n",
       "            min_samples_leaf=1, min_samples_split=2,\n",
       "            min_weight_fraction_leaf=0.0, presort=False, random_state=1,\n",
       "            splitter='best'),\n",
       "       fit_params=None, iid='warn', n_jobs=None,\n",
       "       param_grid={'criterion': ['gini', 'entropy'], 'splitter': ['best', 'random'], 'min_samples_leaf': [1, 2, 5, 10, 20], 'max_features': ['auto', 'log2', None], 'class_weight': ['balanced', None]},\n",
       "       pre_dispatch='2*n_jobs', refit=False, return_train_score='warn',\n",
       "       scoring=['recall', 'precision'], verbose=0)"
      ]
     },
     "execution_count": 54,
     "metadata": {},
     "output_type": "execute_result"
    }
   ],
   "source": [
    "from sklearn.model_selection import GridSearchCV\n",
    "\n",
    "params_to_search = {\n",
    "    'criterion': ['gini', 'entropy'],\n",
    "    'splitter': ['best', 'random'],\n",
    "    'min_samples_leaf': [1, 2, 5, 10, 20],\n",
    "    'max_features': ['auto', 'log2', None],\n",
    "    'class_weight': ['balanced', None],\n",
    "}\n",
    "\n",
    "mdl = DecisionTreeClassifier(random_state=1)\n",
    "optimized_dt = GridSearchCV(mdl, params_to_search, scoring = ['recall', 'precision'], refit=False)\n",
    "\n",
    "optimized_dt.fit(X_train_scaled, y_train)\n"
   ]
  },
  {
   "cell_type": "markdown",
   "metadata": {},
   "source": [
    "The results from grid searching are all stored in ```optimized_dt.cv_results_```. Take a look at the keys and values, and plot a scatter plot of the ```mean_test_precision``` versus ```mean_test_recall```."
   ]
  },
  {
   "cell_type": "code",
   "execution_count": 60,
   "metadata": {},
   "outputs": [],
   "source": [
    "# Get the mean test precision and precision from optimized_dt.cv_results_\n",
    "# and plot a scatter plot.\n",
    "rec_pre = pd.DataFrame({'Recall':optimized_dt.cv_results_['mean_test_recall'], 'Precision':optimized_dt.cv_results_['mean_test_precision']})"
   ]
  },
  {
   "cell_type": "code",
   "execution_count": 67,
   "metadata": {},
   "outputs": [
    {
     "data": {
      "image/png": "[encoded data removed]",
      "text/plain": [
       "<Figure size 432x288 with 1 Axes>"
      ]
     },
     "metadata": {
      "needs_background": "light"
     },
     "output_type": "display_data"
    }
   ],
   "source": [
    "rec_pre.plot.scatter(x = 'Precision',\n",
    "                    y = 'Recall')\n",
    "plt.show()"
   ]
  },
  {
   "cell_type": "markdown",
   "metadata": {},
   "source": [
    "Your plot should look something like this.\n",
    "![cluster_models](img/precision_v_recall.png)\n",
    "\n",
    "The baseline, monotone, and interactions models that we were building initially lie in the main clump where precision and recall are approximately 0.2. However, it seems that if you select the parameters appropriately, you will either swing to high recall or high precision.\n",
    "\n",
    "You can go through all of the parameters (```params```) and their corresponding precision (```mean_test_precision```) and recall scores (```mean_test_recall```) inside ```cv_results_```. Explore the grid search results via the results dictionary and answer the following questions.\n",
    "\n",
    "1. Which parameter settings are important in order to achieve high recall? Do the settings make sense intuitively?\n",
    "2. Which parameter settings are important in order to achieve high precision? Do the settings make sense intuitively?"
   ]
  },
  {
   "cell_type": "code",
   "execution_count": null,
   "metadata": {},
   "outputs": [],
   "source": [
    "    'criterion': ['gini', 'entropy'],\n",
    "    'splitter': ['best', 'random'],\n",
    "    'min_samples_leaf': [1, 2, 5, 10, 20],\n",
    "    'max_features': ['auto', 'log2', None],\n",
    "    'class_weight': ['balanced', None],"
   ]
  },
  {
   "cell_type": "code",
   "execution_count": 91,
   "metadata": {},
   "outputs": [
    {
     "ename": "AttributeError",
     "evalue": "'GridSearchCV' object has no attribute 'cv_resiults_'",
     "output_type": "error",
     "traceback": [
      "\u001b[1;31m---------------------------------------------------------------------------\u001b[0m",
      "\u001b[1;31mAttributeError\u001b[0m                            Traceback (most recent call last)",
      "\u001b[1;32m<ipython-input-91-c544bb65a324>\u001b[0m in \u001b[0;36m<module>\u001b[1;34m\u001b[0m\n\u001b[0;32m      1\u001b[0m \u001b[1;31m# You can write some code to explore the data below\u001b[0m\u001b[1;33m\u001b[0m\u001b[1;33m\u001b[0m\u001b[1;33m\u001b[0m\u001b[0m\n\u001b[1;32m----> 2\u001b[1;33m \u001b[0mcv_r\u001b[0m \u001b[1;33m=\u001b[0m \u001b[0mpd\u001b[0m\u001b[1;33m.\u001b[0m\u001b[0mDataFrame\u001b[0m\u001b[1;33m(\u001b[0m\u001b[0moptimized_dt\u001b[0m\u001b[1;33m.\u001b[0m\u001b[0mcv_resiults_\u001b[0m\u001b[1;33m)\u001b[0m\u001b[1;33m.\u001b[0m\u001b[0mdrop\u001b[0m\u001b[1;33m(\u001b[0m\u001b[1;34m'params'\u001b[0m\u001b[1;33m)\u001b[0m\u001b[1;33m\u001b[0m\u001b[1;33m\u001b[0m\u001b[0m\n\u001b[0m\u001b[0;32m      3\u001b[0m \u001b[0mcv_r\u001b[0m \u001b[1;33m=\u001b[0m \u001b[0mcv_r\u001b[0m\u001b[1;33m.\u001b[0m\u001b[0mconcat\u001b[0m\u001b[1;33m(\u001b[0m\u001b[0mpd\u001b[0m\u001b[1;33m.\u001b[0m\u001b[0mDataFrame\u001b[0m\u001b[1;33m(\u001b[0m\u001b[0mpd\u001b[0m\u001b[1;33m.\u001b[0m\u001b[0mDataFrame\u001b[0m\u001b[1;33m(\u001b[0m\u001b[0moptimized_dt\u001b[0m\u001b[1;33m.\u001b[0m\u001b[0mcv_results_\u001b[0m\u001b[1;33m)\u001b[0m\u001b[1;33m.\u001b[0m\u001b[0mparams\u001b[0m\u001b[1;33m)\u001b[0m\u001b[1;33m[\u001b[0m\u001b[1;34m'params'\u001b[0m\u001b[1;33m]\u001b[0m\u001b[1;33m.\u001b[0m\u001b[0mapply\u001b[0m\u001b[1;33m(\u001b[0m\u001b[0mpd\u001b[0m\u001b[1;33m.\u001b[0m\u001b[0mSeries\u001b[0m\u001b[1;33m)\u001b[0m\u001b[1;33m,\u001b[0m \u001b[0maxis\u001b[0m \u001b[1;33m=\u001b[0m \u001b[1;36m1\u001b[0m\u001b[1;33m)\u001b[0m\u001b[1;33m\u001b[0m\u001b[1;33m\u001b[0m\u001b[0m\n",
      "\u001b[1;31mAttributeError\u001b[0m: 'GridSearchCV' object has no attribute 'cv_resiults_'"
     ]
    }
   ],
   "source": [
    "# You can write some code to explore the data below\n",
    "cv_r = pd.DataFrame(optimized_dt.cv_resiults_).drop('params')\n",
    "cv_r = cv_r.concat(pd.DataFrame(pd.DataFrame(optimized_dt.cv_results_).params)['params'].apply(pd.Series), axis = 1)\n"
   ]
  },
  {
   "cell_type": "markdown",
   "metadata": {},
   "source": [
    "In the code below, we've picked out a few parameter settings that either achieve high precision, recall, or a good trade-off between the two, and tested the models on the validation set."
   ]
  },
  {
   "cell_type": "code",
   "execution_count": 18,
   "metadata": {},
   "outputs": [
    {
     "name": "stdout",
     "output_type": "stream",
     "text": [
      "On the validation set, the precision is 0.2461734693877551 and recall is 0.5975232198142415\n",
      "On the validation set, the precision is 0.23623011015911874 and recall is 0.5975232198142415\n",
      "On the validation set, the precision is 0.6666666666666666 and recall is 0.01238390092879257\n",
      "On the validation set, the precision is 0.47619047619047616 and recall is 0.030959752321981424\n"
     ]
    }
   ],
   "source": [
    "X_train_scaled, X_val_scaled = new_features_and_normalize(X_train, X_val)\n",
    "\n",
    "best_params = [\n",
    "    {'class_weight': 'balanced', 'criterion': 'entropy', 'max_features': 'auto', \n",
    "     'min_samples_leaf': 20, 'splitter': 'random'},\n",
    "    {'class_weight': 'balanced', 'criterion': 'gini', 'max_features': 'auto', \n",
    "     'min_samples_leaf': 20, 'splitter': 'random'},\n",
    "    {'class_weight': None, 'criterion': 'entropy', 'max_features': None, \n",
    "     'min_samples_leaf': 20, 'splitter': 'random'},\n",
    "    {'class_weight': None, 'criterion': 'gini', 'max_features': None, \n",
    "     'min_samples_leaf': 20, 'splitter': 'random'}\n",
    "]\n",
    "\n",
    "for i, param in enumerate(best_params):\n",
    "    mdl = DecisionTreeClassifier(random_state=1, **param)\n",
    "    \n",
    "    precision, recall = fit_and_score_model(mdl, \n",
    "                                            X_train_scaled, \n",
    "                                            X_val_scaled, \n",
    "                                            y_train, \n",
    "                                            y_val)\n",
    "    all_models['best_params_{}'.format(i)] = (precision, recall, mdl, 'run new_features_and_normalize()')"
   ]
  },
  {
   "cell_type": "markdown",
   "metadata": {},
   "source": [
    "At this point, it might be useful to review the ```all_models``` dictionary. Write some code to print out the names, precision, recall, (and notes) for all of hte models. Think about your application. Which models are useful? Are there certain models that are definitively better than others? "
   ]
  },
  {
   "cell_type": "code",
   "execution_count": 19,
   "metadata": {},
   "outputs": [
    {
     "name": "stdout",
     "output_type": "stream",
     "text": [
      "baseline:\t precision 0.25,\t recall 0.25,\t\t runs on X_train\n",
      "monotone:\t precision 0.27,\t recall 0.27,\t\t run monotone_transform()\n",
      "interactions:\t precision 0.28,\t recall 0.3,\t\t run new_feature_combos()\n",
      "normalized:\t precision 0.28,\t recall 0.3,\t\t run new_features_and_normalize()\n",
      "best_params_0:\t precision 0.25,\t recall 0.6,\t\t run new_features_and_normalize()\n",
      "best_params_1:\t precision 0.24,\t recall 0.6,\t\t run new_features_and_normalize()\n",
      "best_params_2:\t precision 0.67,\t recall 0.01,\t\t run new_features_and_normalize()\n",
      "best_params_3:\t precision 0.48,\t recall 0.03,\t\t run new_features_and_normalize()\n"
     ]
    }
   ],
   "source": [
    "for mdl in all_models:\n",
    "    pre = np.round(all_models[mdl][0], 2)\n",
    "    rec = np.round(all_models[mdl][1], 2)\n",
    "    print('{}:\\t precision {},\\t recall {},\\t\\t {}'.format(mdl, pre, rec, all_models[mdl][3]))"
   ]
  },
  {
   "cell_type": "markdown",
   "metadata": {},
   "source": [
    "## Stacking multiple models\n",
    "\n",
    "In the previous lab, we studied random forests, which are a type of ensemble model. An ensemble model takes a group of base or simple models, predicts the target with each model, and then uses a voting rule to determine the final prediction. \n",
    "\n",
    "Stacked models are similar to ensembles, in the sense that we use a set of (often different) baseline models to predict the target. We then create a new model that takes the base model's predictions as new features in addition to the original ones. The key difference between ensembles and stacking is that instead of a voting rule, we use another prediction model.\n",
    "\n",
    "Let's create a stacked Logistic Regression model. It will take the original features, in addition to the the predictions of the four decision trees that we found via grid-searching. First, prepare your data. Then, run each of the previous models to predict the target and add each of these new predictions as columns to your training and validation datasets. Then train a new decision tree on the improved dataset."
   ]
  },
  {
   "cell_type": "code",
   "execution_count": 20,
   "metadata": {},
   "outputs": [
    {
     "name": "stdout",
     "output_type": "stream",
     "text": [
      "On the validation set, the precision is 0.24013528748590757 and recall is 0.6594427244582043\n"
     ]
    },
    {
     "name": "stderr",
     "output_type": "stream",
     "text": [
      "/usr/local/lib/python3.7/site-packages/sklearn/linear_model/logistic.py:433: FutureWarning: Default solver will be changed to 'lbfgs' in 0.22. Specify a solver to silence this warning.\n",
      "  FutureWarning)\n"
     ]
    }
   ],
   "source": [
    "def stack_models(X, models):\n",
    "    # This code takes a dataset and a list of pre-trained models, and introduces\n",
    "    # new features for each of the models.\n",
    "    stack_features = pd.DataFrame(index=X.index)\n",
    "    for i, mdl in enumerate(models):\n",
    "        stack_features['mdl_{}'.format(i)] = mdl.predict(X)\n",
    "    X = pd.concat([X, stack_features], axis=1)\n",
    "    \n",
    "    return X\n",
    "\n",
    "best_params_models = [ all_models[key][2] for key in all_models.keys() if key.startswith('best_params')]\n",
    "\n",
    "# First create new features and normalize\n",
    "X_train_scaled, X_val_scaled = new_features_and_normalize(X_train, X_val)\n",
    "\n",
    "# Then stack\n",
    "X_train_grid_search = stack_models(X_train_scaled, best_params_models)\n",
    "X_val_grid_search = stack_models(X_val_scaled, best_params_models)\n",
    "\n",
    "# We will use logistic regression instead of a decision tree at the higher-level classifier\n",
    "mdl_stack = LogisticRegression(random_state=1, penalty='l2', C=0.00001, class_weight='balanced')\n",
    "precision, recall = fit_and_score_model(mdl_stack, \n",
    "                                        X_train_grid_search, \n",
    "                                        X_val_grid_search, \n",
    "                                        y_train, \n",
    "                                        y_val)\n",
    "all_models['stacked'] = (precision, recall, mdl_stack, \n",
    "                         'run new_features_and_normalize(), stack_models(best_params_models)')"
   ]
  },
  {
   "cell_type": "markdown",
   "metadata": {},
   "source": [
    "When we compared the four grid-searched models in the previous section, we found that some models clearly performed better than others on both precision and recall. However, you might find that if you get rid of one of the models, the performance of the stacked model will decrease. This is because each of the four models are still observing different useful information. Even if the average accuracy of one model is less than another, that model may still be better at predicting for certain subsets and scenarios. \n",
    "\n",
    "There are many ways to validate if the base models are different. For example, you could count the number of predicted 1's and 0's for each model. A more detailed analysis would be to see exactly for which cases a certain model correctly predicts 1 over another. In the space below, try exploring the different models."
   ]
  },
  {
   "cell_type": "code",
   "execution_count": 21,
   "metadata": {},
   "outputs": [],
   "source": [
    "# Write code here to explore if the base models are different.\n"
   ]
  },
  {
   "cell_type": "markdown",
   "metadata": {},
   "source": [
    "Even though the base models are different, they are still all decision trees. Usually when stacking models, it is preferable to use different types of models in your base and different types of models at the top. The intuition is that different model types will learn different characteristics about your data. For example, note that we used a logistic regression at the top. If you go back and try to use a decision tree at the top, you will notice that the performance drops significantly and the top model cannot discern useful information from the base models.\n",
    "\n",
    "In the end, there are very few hard rules in terms of what you should and shouldn't do when model engineering. Different applications will find different methods work better, and model engineering is effectively an art form rather than a science. You can add new components in the stack, gridsearch to find better parameters of the top model, hunt for new features, train different models on different subsets of data (e.g., bagging/bootstrap), or even train your models on the prediction errors of other models (e.g., boosting). In the space below, feel free to try to improve your model."
   ]
  },
  {
   "cell_type": "code",
   "execution_count": null,
   "metadata": {},
   "outputs": [],
   "source": []
  },
  {
   "cell_type": "code",
   "execution_count": null,
   "metadata": {},
   "outputs": [],
   "source": []
  },
  {
   "cell_type": "code",
   "execution_count": null,
   "metadata": {},
   "outputs": [],
   "source": []
  }
 ],
 "metadata": {
  "kernelspec": {
   "display_name": "Python 3",
   "language": "python",
   "name": "python3"
  },
  "language_info": {
   "codemirror_mode": {
    "name": "ipython",
    "version": 3
   },
   "file_extension": ".py",
   "mimetype": "text/x-python",
   "name": "python",
   "nbconvert_exporter": "python",
   "pygments_lexer": "ipython3",
   "version": "3.6.6"
  }
 },
 "nbformat": 4,
 "nbformat_minor": 2
}
